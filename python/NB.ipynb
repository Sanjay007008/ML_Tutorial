{
 "cells": [
  {
   "cell_type": "code",
   "execution_count": 2,
   "metadata": {},
   "outputs": [
    {
     "name": "stdout",
     "output_type": "stream",
     "text": [
      "Accuracy: 0.64\n",
      "\n",
      "Classification Report:\n",
      "              precision    recall  f1-score   support\n",
      "\n",
      "        High       0.78      0.69      0.73       815\n",
      "         Low       0.63      0.83      0.72       776\n",
      "      Medium       0.50      0.41      0.45       763\n",
      "\n",
      "    accuracy                           0.64      2354\n",
      "   macro avg       0.64      0.64      0.63      2354\n",
      "weighted avg       0.64      0.64      0.64      2354\n",
      "\n",
      "\n",
      "Confusion Matrix:\n",
      "[[561  60 194]\n",
      " [ 14 642 120]\n",
      " [141 312 310]]\n"
     ]
    }
   ],
   "source": [
    "import pandas as pd\n",
    "import numpy as np\n",
    "import matplotlib.pyplot as plt\n",
    "from sklearn.model_selection import train_test_split\n",
    "from sklearn.preprocessing import LabelEncoder, StandardScaler\n",
    "from sklearn.naive_bayes import GaussianNB\n",
    "from sklearn.metrics import accuracy_score, classification_report, confusion_matrix\n",
    "\n",
    "# Load dataset\n",
    "file_path = r\"C:\\Users\\Sanjay\\Desktop\\ML Tutorial\\archive\\laptop_prices.csv\"\n",
    "df = pd.read_csv(file_path)\n",
    "\n",
    "# Convert Storage to numerical format (handling missing values)\n",
    "df['Storage'] = df['Storage'].str.extract(r'(\\d+)').dropna().astype(float)\n",
    "\n",
    "# Convert Resolution to total pixel count\n",
    "df[['Width', 'Height']] = df['Resolution'].str.split('x', expand=True).astype(float)\n",
    "df['Total_Pixels'] = df['Width'] * df['Height']\n",
    "df.drop(columns=['Resolution', 'Width', 'Height'], inplace=True)\n",
    "\n",
    "# Encode categorical variables\n",
    "label_encoders = {}\n",
    "for col in ['Brand', 'Processor', 'GPU', 'Operating System']:\n",
    "    le = LabelEncoder()\n",
    "    df[col] = le.fit_transform(df[col])\n",
    "    label_encoders[col] = le\n",
    "\n",
    "# Convert price into categories (Low, Medium, High)\n",
    "df['Price Category'] = pd.qcut(df['Price ($)'], q=3, labels=['Low', 'Medium', 'High'])\n",
    "\n",
    "# Define features and target variable\n",
    "X = df.drop(columns=['Price ($)', 'Price Category'])\n",
    "y = df['Price Category']\n",
    "\n",
    "# Standardize features\n",
    "scaler = StandardScaler()\n",
    "X_scaled = scaler.fit_transform(X)\n",
    "\n",
    "# Split dataset into training and testing sets\n",
    "X_train, X_test, y_train, y_test = train_test_split(X_scaled, y, test_size=0.2, random_state=42)\n",
    "\n",
    "# Train Naive Bayes Classifier\n",
    "nb_model = GaussianNB()\n",
    "nb_model.fit(X_train, y_train)\n",
    "\n",
    "# Predictions\n",
    "y_pred = nb_model.predict(X_test)\n",
    "\n",
    "# Evaluate the model\n",
    "accuracy = accuracy_score(y_test, y_pred)\n",
    "print(f\"Accuracy: {accuracy:.2f}\")\n",
    "\n",
    "print(\"\\nClassification Report:\")\n",
    "print(classification_report(y_test, y_pred))\n",
    "\n",
    "# Confusion matrix\n",
    "conf_matrix = confusion_matrix(y_test, y_pred)\n",
    "print(\"\\nConfusion Matrix:\")\n",
    "print(conf_matrix)\n"
   ]
  }
 ],
 "metadata": {
  "kernelspec": {
   "display_name": "Python 3",
   "language": "python",
   "name": "python3"
  },
  "language_info": {
   "codemirror_mode": {
    "name": "ipython",
    "version": 3
   },
   "file_extension": ".py",
   "mimetype": "text/x-python",
   "name": "python",
   "nbconvert_exporter": "python",
   "pygments_lexer": "ipython3",
   "version": "3.12.8"
  }
 },
 "nbformat": 4,
 "nbformat_minor": 2
}
